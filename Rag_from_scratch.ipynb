{
 "cells": [
  {
   "cell_type": "code",
   "execution_count": 4,
   "id": "403647e4-b7d0-4274-9da9-ee537c687d74",
   "metadata": {},
   "outputs": [],
   "source": [
    "corpus_of_documents = [\n",
    "    \"Stay curious and keep learning.\",\n",
    "\"AI transforms industries globally.\",\n",
    "\"Generative AI personalizes content.\",\n",
    "\"Niche AI fields drive innovation.\",\n",
    "\"Experimentation enhances learning.\",\n",
    "\"Planning is key to career success.\",\n",
    "\"Open-source projects build skills.\",\n",
    "\"A portfolio helps you stand out.\",\n",
    "\"Adaptability ensures growth.\",\n",
    "\"AI evolves rapidly with innovation.\"\n",
    "\n",
    "]"
   ]
  },
  {
   "cell_type": "code",
   "execution_count": 5,
   "id": "d37a5c07-3880-432e-96e5-fa14d3ef9646",
   "metadata": {},
   "outputs": [
    {
     "data": {
      "text/plain": [
       "['Stay curious and keep learning.',\n",
       " 'AI transforms industries globally.',\n",
       " 'Generative AI personalizes content.',\n",
       " 'Niche AI fields drive innovation.',\n",
       " 'Experimentation enhances learning.',\n",
       " 'Planning is key to career success.',\n",
       " 'Open-source projects build skills.',\n",
       " 'A portfolio helps you stand out.',\n",
       " 'Adaptability ensures growth.',\n",
       " 'AI evolves rapidly with innovation.']"
      ]
     },
     "execution_count": 5,
     "metadata": {},
     "output_type": "execute_result"
    }
   ],
   "source": [
    "corpus_of_documents"
   ]
  },
  {
   "cell_type": "code",
   "execution_count": null,
   "id": "d59f94cc-da8e-40d9-aa65-8670a9e58522",
   "metadata": {},
   "outputs": [],
   "source": [
    "# apply some similarity \n",
    "# cosine similarity\n",
    "# Cosine = A.B / |A||B|"
   ]
  },
  {
   "cell_type": "code",
   "execution_count": 6,
   "id": "1bb52854-f0b4-4ac3-9336-2e36dabe8a7f",
   "metadata": {},
   "outputs": [],
   "source": [
    "user_query=\"i am an indian and i live in india\""
   ]
  },
  {
   "cell_type": "code",
   "execution_count": 79,
   "id": "71114687-3f60-4c5e-bc34-ead5342082f3",
   "metadata": {},
   "outputs": [],
   "source": [
    "document = \"i am an indian and i live in india\"\n"
   ]
  },
  {
   "cell_type": "code",
   "execution_count": 80,
   "id": "ff64a21f-bd21-40e6-b413-bd59fc41ea16",
   "metadata": {},
   "outputs": [],
   "source": [
    "from collections import Counter\n",
    "import math"
   ]
  },
  {
   "cell_type": "code",
   "execution_count": 81,
   "id": "c3e851d4-6b00-4a4b-b5b6-86ea824f6417",
   "metadata": {},
   "outputs": [],
   "source": [
    "query_tokens = user_query.lower().split(\" \")"
   ]
  },
  {
   "cell_type": "code",
   "execution_count": 82,
   "id": "eac8dd47-7861-40e7-a7a6-4c4a0cf6ea2b",
   "metadata": {},
   "outputs": [],
   "source": [
    "document_tokens = document.lower().split(\" \")"
   ]
  },
  {
   "cell_type": "code",
   "execution_count": 83,
   "id": "249a230c-08cf-4e1f-9143-b41d243d9d1e",
   "metadata": {},
   "outputs": [],
   "source": [
    "query_counter = Counter(query_tokens)"
   ]
  },
  {
   "cell_type": "code",
   "execution_count": 84,
   "id": "1fdcb302-d3a4-4bbf-89e6-811ea9db7ccc",
   "metadata": {},
   "outputs": [],
   "source": [
    "document_counter =Counter(document_tokens)"
   ]
  },
  {
   "cell_type": "code",
   "execution_count": 85,
   "id": "c43078ad-92e3-4e2f-bacb-5a98d7db9992",
   "metadata": {},
   "outputs": [
    {
     "data": {
      "text/plain": [
       "Counter({'i': 2,\n",
       "         'am': 1,\n",
       "         'an': 1,\n",
       "         'indian': 1,\n",
       "         'and': 1,\n",
       "         'live': 1,\n",
       "         'in': 1,\n",
       "         'india': 1})"
      ]
     },
     "execution_count": 85,
     "metadata": {},
     "output_type": "execute_result"
    }
   ],
   "source": [
    "document_counter"
   ]
  },
  {
   "cell_type": "code",
   "execution_count": 87,
   "id": "8664b591-b7c7-4b60-a587-9772daacbdf0",
   "metadata": {},
   "outputs": [
    {
     "name": "stdout",
     "output_type": "stream",
     "text": [
      "indian\n",
      "in\n",
      "live\n",
      "am\n",
      "india\n",
      "and\n",
      "i\n",
      "an\n"
     ]
    }
   ],
   "source": [
    "lst = []\n",
    "for tokens in query_counter.keys() & document_counter.keys():\n",
    "   print(tokens)\n",
    "  "
   ]
  },
  {
   "cell_type": "code",
   "execution_count": 88,
   "id": "481285b8-bcce-48a2-85fd-4e06124f3b12",
   "metadata": {},
   "outputs": [
    {
     "data": {
      "text/plain": [
       "[]"
      ]
     },
     "execution_count": 88,
     "metadata": {},
     "output_type": "execute_result"
    }
   ],
   "source": [
    "# sentence vector\n",
    "lst"
   ]
  },
  {
   "cell_type": "code",
   "execution_count": 89,
   "id": "bf72c893-15ef-4792-b04c-1740b7bf305d",
   "metadata": {},
   "outputs": [],
   "source": [
    "# word level similarity over dot product\n",
    "mylist = []\n",
    "for tokens in query_counter.keys() & document_counter.keys():\n",
    "    mylist.append(query_counter[tokens] *document_counter[tokens])\n"
   ]
  },
  {
   "cell_type": "code",
   "execution_count": 90,
   "id": "3dd071ae-171b-47fb-b5ea-0b003edff22c",
   "metadata": {},
   "outputs": [
    {
     "data": {
      "text/plain": [
       "[1, 1, 1, 1, 1, 1, 4, 1]"
      ]
     },
     "execution_count": 90,
     "metadata": {},
     "output_type": "execute_result"
    }
   ],
   "source": [
    "mylist"
   ]
  },
  {
   "cell_type": "code",
   "execution_count": 91,
   "id": "24f115d8-210b-4e04-b845-9d6167d343b4",
   "metadata": {},
   "outputs": [],
   "source": [
    "dot_prod = sum(mylist)"
   ]
  },
  {
   "cell_type": "code",
   "execution_count": 92,
   "id": "b1115409-6d58-4132-b89e-12ece829b995",
   "metadata": {},
   "outputs": [],
   "source": [
    "query_magnitude = math.sqrt(sum(query_counter[token] ** 2 for token in query_counter))"
   ]
  },
  {
   "cell_type": "code",
   "execution_count": 93,
   "id": "b0449274-d51b-4156-bd2b-6db90cb4694a",
   "metadata": {},
   "outputs": [
    {
     "data": {
      "text/plain": [
       "3.3166247903554"
      ]
     },
     "execution_count": 93,
     "metadata": {},
     "output_type": "execute_result"
    }
   ],
   "source": [
    "query_magnitude"
   ]
  },
  {
   "cell_type": "code",
   "execution_count": 94,
   "id": "a1e33bfb-d2e7-46f2-8620-6168d024fae3",
   "metadata": {},
   "outputs": [],
   "source": [
    "document_magnitude = math.sqrt(sum(document_counter[token] ** 2 for token in document_counter))"
   ]
  },
  {
   "cell_type": "code",
   "execution_count": 95,
   "id": "b397ba90-d5c8-4e1b-84f6-b2652b76b93e",
   "metadata": {},
   "outputs": [
    {
     "data": {
      "text/plain": [
       "3.3166247903554"
      ]
     },
     "execution_count": 95,
     "metadata": {},
     "output_type": "execute_result"
    }
   ],
   "source": [
    "document_magnitude"
   ]
  },
  {
   "cell_type": "code",
   "execution_count": 96,
   "id": "ea64139c-f544-410f-a80c-083ede954686",
   "metadata": {},
   "outputs": [],
   "source": [
    "similarity = (dot_prod) / (query_magnitude *document_magnitude )"
   ]
  },
  {
   "cell_type": "code",
   "execution_count": 124,
   "id": "dd0f1c3f-82cc-41b3-96a6-c5bb80f7586a",
   "metadata": {},
   "outputs": [
    {
     "data": {
      "text/plain": [
       "1.0"
      ]
     },
     "execution_count": 124,
     "metadata": {},
     "output_type": "execute_result"
    }
   ],
   "source": [
    "similarity\n"
   ]
  },
  {
   "cell_type": "code",
   "execution_count": 145,
   "id": "96280ec6-c040-40df-9ce6-618d0aa9fe9e",
   "metadata": {},
   "outputs": [],
   "source": [
    "def cosine_similarity(query, document):\n",
    "    # Tokenize and convert to lowercase\n",
    "    query_tokens = query.lower().split(\" \")\n",
    "    document_tokens = document.lower().split(\" \")\n",
    "\n",
    "    # Create Counters for query and document\n",
    "    query_counter = Counter(query_tokens)\n",
    "    document_counter = Counter(document_tokens)\n",
    "\n",
    "    # Calculate dot product\n",
    "    dot_product = sum(query_counter[token] * document_counter[token] for token in query_counter.keys() & document_counter.keys())\n",
    "\n",
    "    # Calculate magnitudes\n",
    "    query_magnitude = math.sqrt(sum(query_counter[token] ** 2 for token in query_counter))\n",
    "    document_magnitude = math.sqrt(sum(document_counter[token] ** 2 for token in document_counter))\n",
    "\n",
    "    # Calculate cosine similarity\n",
    "    similarity = dot_product / (query_magnitude * document_magnitude) if query_magnitude * document_magnitude != 0 else 0\n",
    "\n",
    "    return similarity"
   ]
  },
  {
   "cell_type": "code",
   "execution_count": 166,
   "id": "27b7fbf8-9945-4ad7-8b20-c00ae770036d",
   "metadata": {},
   "outputs": [],
   "source": [
    "def return_response(query, corpus):\n",
    "    similarities = []\n",
    "    for doc in corpus:\n",
    "        similarity = cosine_similarity(query, doc)\n",
    "        similarities.append(similarity)\n",
    "    return corpus_of_documents[similarities.index(max(similarities))]"
   ]
  },
  {
   "cell_type": "code",
   "execution_count": 167,
   "id": "25f2196d-b48e-4147-a4af-b3091f00f0ae",
   "metadata": {},
   "outputs": [
    {
     "data": {
      "text/plain": [
       "['Stay curious and keep learning.',\n",
       " 'AI transforms industries globally.',\n",
       " 'Generative AI personalizes content.',\n",
       " 'Niche AI fields drive innovation.',\n",
       " 'Experimentation enhances learning.',\n",
       " 'Planning is key to career success.',\n",
       " 'Open-source projects build skills.',\n",
       " 'A portfolio helps you stand out.',\n",
       " 'Adaptability ensures growth.',\n",
       " 'AI evolves rapidly with innovation.']"
      ]
     },
     "execution_count": 167,
     "metadata": {},
     "output_type": "execute_result"
    }
   ],
   "source": [
    "corpus_of_documents"
   ]
  },
  {
   "cell_type": "code",
   "execution_count": 171,
   "id": "b618f803-072a-4341-aa6b-0210c4ec5818",
   "metadata": {},
   "outputs": [],
   "source": [
    "user_input = \"i like Generative AI\"\n"
   ]
  },
  {
   "cell_type": "code",
   "execution_count": 178,
   "id": "1ead5d77-0879-49aa-acf8-0ac276c8f972",
   "metadata": {},
   "outputs": [],
   "source": [
    "relevant_document = return_response(user_input, corpus_of_documents)"
   ]
  },
  {
   "cell_type": "code",
   "execution_count": 179,
   "id": "4100ced1-66f9-4471-8a8f-3502f1b132a1",
   "metadata": {},
   "outputs": [],
   "source": [
    "# how you can configure llm in your local system\n",
    "# LLAMA2\n",
    "# higging face ()\n",
    "# ollama"
   ]
  },
  {
   "cell_type": "code",
   "execution_count": 175,
   "id": "724eb322-6e4d-48b4-9275-8991a794fd02",
   "metadata": {},
   "outputs": [],
   "source": [
    "import requests\n",
    "import json\n",
    "full_response = []"
   ]
  },
  {
   "cell_type": "code",
   "execution_count": 180,
   "id": "baa0e818-7717-4140-9b5d-514a047242a7",
   "metadata": {},
   "outputs": [
    {
     "name": "stdout",
     "output_type": "stream",
     "text": [
      " Great! Based on your interest in Generative AI, I recommend trying out Content Generation Tools. These tools use AI algorithms to create personalized content for various industries such as entertainment, marketing, and education. By using these tools, you can generate high-quality content quickly and efficiently, without the need for manual labor. Give it a try and see how it can benefit your work!\n"
     ]
    }
   ],
   "source": [
    "full_response = []\n",
    "prompt = \"\"\"\n",
    "You are a bot that makes recommendations for activities. You answer in very short sentences and do not include extra information.\n",
    "This is the recommended activity: {relevant_document}\n",
    "The user input is: {user_input}\n",
    "Compile a recommendation to the user based on the recommended activity and the user input.\n",
    "\"\"\"\n",
    "\n",
    "url = 'http://localhost:11434/api/generate'\n",
    "\n",
    "\n",
    "data = {\n",
    "    \"model\": \"llama2\",\n",
    "    \"prompt\": prompt.format(user_input=user_input, relevant_document=relevant_document)\n",
    "}\n",
    "\n",
    "headers = {'Content-Type': 'application/json'}\n",
    "\n",
    "response = requests.post(url, data=json.dumps(data), headers=headers, stream=True)\n",
    "\n",
    "\n",
    "try:\n",
    "    for line in response.iter_lines():\n",
    "        # filter out keep-alive new lines\n",
    "        if line:\n",
    "            decoded_line = json.loads(line.decode('utf-8'))\n",
    "            # print(decoded_line['response'])  # uncomment to results, token by token\n",
    "            full_response.append(decoded_line['response'])\n",
    "finally:\n",
    "    response.close()\n",
    "    \n",
    "    \n",
    "print(''.join(full_response))"
   ]
  },
  {
   "cell_type": "code",
   "execution_count": null,
   "id": "860c11a5-3c04-450a-9ae5-3d1a75de306f",
   "metadata": {},
   "outputs": [],
   "source": []
  }
 ],
 "metadata": {
  "kernelspec": {
   "display_name": "Python 3 (ipykernel)",
   "language": "python",
   "name": "python3"
  },
  "language_info": {
   "codemirror_mode": {
    "name": "ipython",
    "version": 3
   },
   "file_extension": ".py",
   "mimetype": "text/x-python",
   "name": "python",
   "nbconvert_exporter": "python",
   "pygments_lexer": "ipython3",
   "version": "3.12.7"
  }
 },
 "nbformat": 4,
 "nbformat_minor": 5
}
